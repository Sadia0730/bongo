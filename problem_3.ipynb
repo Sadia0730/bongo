{
 "cells": [
  {
   "cell_type": "code",
   "execution_count": 4,
   "metadata": {},
   "outputs": [
    {
     "name": "stdout",
     "output_type": "stream",
     "text": [
      "LCA(4,5) =  2\n",
      "LCA(8,9) =  4\n",
      "LCA(6,7) =  3\n",
      "LCA(2,8) =  2\n"
     ]
    }
   ],
   "source": [
    "class Node:\n",
    "    def __init__(self, data):\n",
    "        self.data = data\n",
    "        self.left = None\n",
    "        self.right = None\n",
    "\n",
    "def lca(root, node1, node2):\n",
    "\n",
    "\n",
    "    if root is None:\n",
    "        return None\n",
    "\n",
    "\n",
    "    if root.data == node1 or root.data == node2:\n",
    "        return root\n",
    "\n",
    "\n",
    "    left_lca = lca(root.left, node1, node2)\n",
    "    right_lca = lca(root.right, node1, node2)\n",
    "\n",
    "   \n",
    "    if left_lca and right_lca:\n",
    "        return root\n",
    "\n",
    " \n",
    "    return left_lca if left_lca is not None else right_lca\n",
    "\n",
    "\n",
    "\n",
    "\n",
    "root = Node(1)\n",
    "root.left = Node(2)\n",
    "root.right = Node(3)\n",
    "root.left.left = Node(4)\n",
    "root.left.right = Node(5)\n",
    "root.right.left = Node(6)\n",
    "root.right.right = Node(7)\n",
    "root.left.left.left= Node(8)\n",
    "root.left.left.right=Node(9)\n",
    "print (\"LCA(4,5) = \", lca(root, 4, 5).data)\n",
    "print (\"LCA(8,9) = \", lca(root, 8, 9).data)\n",
    "print (\"LCA(6,7) = \", lca(root, 6, 7).data)\n",
    "print (\"LCA(2,8) = \", lca(root, 2, 8).data)"
   ]
  },
  {
   "cell_type": "code",
   "execution_count": null,
   "metadata": {},
   "outputs": [],
   "source": []
  }
 ],
 "metadata": {
  "kernelspec": {
   "display_name": "Python 3",
   "language": "python",
   "name": "python3"
  },
  "language_info": {
   "codemirror_mode": {
    "name": "ipython",
    "version": 3
   },
   "file_extension": ".py",
   "mimetype": "text/x-python",
   "name": "python",
   "nbconvert_exporter": "python",
   "pygments_lexer": "ipython3",
   "version": "3.7.1"
  }
 },
 "nbformat": 4,
 "nbformat_minor": 2
}
