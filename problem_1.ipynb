{
 "cells": [
  {
   "cell_type": "code",
   "execution_count": 1,
   "metadata": {},
   "outputs": [
    {
     "name": "stdout",
     "output_type": "stream",
     "text": [
      "key1   1\n",
      "key2   1\n",
      "key3   2\n",
      "key4   2\n",
      "key5   3\n"
     ]
    }
   ],
   "source": [
    "a = {\n",
    "'key1': 1,\n",
    "'key2': {\n",
    "        'key3': 1,\n",
    "        'key4': {\n",
    "                'key5': 4\n",
    "                }\n",
    "        }\n",
    "}\n",
    "\n",
    "global prev\n",
    "prev=0\n",
    "def print_depth(a,prev):\n",
    "\n",
    "    for key, value in a.items():\n",
    "        if type(value) is dict:\n",
    "            print(key,\" \",prev)\n",
    "            print_depth(value,prev)\n",
    "        else:\n",
    "            prev=prev+1\n",
    "            print(key,\" \",prev)\n",
    "\n",
    "           \n",
    "\n",
    "            \n",
    "print_depth(a,prev)"
   ]
  },
  {
   "cell_type": "code",
   "execution_count": null,
   "metadata": {},
   "outputs": [],
   "source": []
  }
 ],
 "metadata": {
  "kernelspec": {
   "display_name": "Python 3",
   "language": "python",
   "name": "python3"
  },
  "language_info": {
   "codemirror_mode": {
    "name": "ipython",
    "version": 3
   },
   "file_extension": ".py",
   "mimetype": "text/x-python",
   "name": "python",
   "nbconvert_exporter": "python",
   "pygments_lexer": "ipython3",
   "version": "3.7.1"
  }
 },
 "nbformat": 4,
 "nbformat_minor": 2
}
