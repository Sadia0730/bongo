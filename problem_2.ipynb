{
 "cells": [
  {
   "cell_type": "code",
   "execution_count": 1,
   "metadata": {},
   "outputs": [
    {
     "name": "stdout",
     "output_type": "stream",
     "text": [
      "key1   1\n",
      "key2   1\n",
      "key3   2\n",
      "key4   2\n",
      "key5   3\n",
      "user   3\n",
      "first_name: 4\n",
      "last_name: 4\n",
      "father: 4\n",
      "first_name: 5\n",
      "last_name: 5\n",
      "father: 5\n"
     ]
    }
   ],
   "source": [
    "class Person(object):\n",
    "    def __init__(self, first_name, last_name, father):\n",
    "        self.first_name = first_name\n",
    "        self.last_name = last_name\n",
    "        self.father = father\n",
    "person_a = Person('User', '1', 'none')\n",
    "person_b = Person('User', '2', person_a)\n",
    "\n",
    "a = {\n",
    "    'key1': 1,\n",
    "    'key2': {\n",
    "            'key3': 1,\n",
    "            'key4': {\n",
    "                    'key5': 4,\n",
    "                    'user': person_b,\n",
    "                    },\n",
    "            },\n",
    "     }\n",
    "        \n",
    "global prev\n",
    "prev=0\n",
    "def print_depth(a,prev):\n",
    "    for key,value in a.items():\n",
    "        if type(value) is dict:\n",
    "            print(key,\" \",prev)\n",
    "            print_depth(a[key],prev)\n",
    "        elif type(value) is Person:\n",
    "            print(key,\" \",prev) \n",
    "            prev=prev+1\n",
    "            print_obj(value,prev)               \n",
    "        else:\n",
    "            prev=prev+1\n",
    "            print(key,\" \",prev)\n",
    "\n",
    "def print_obj(ob,prev):\n",
    "    print(\"first_name:\",prev)\n",
    "    print(\"last_name:\",prev)\n",
    "    print(\"father:\",prev)\n",
    "    if type(ob.father) is Person:\n",
    "        prev=prev+1\n",
    "        print_obj(ob.father,prev)\n",
    "    else:\n",
    "        return \n",
    "    \n",
    "print_depth(a,prev)"
   ]
  },
  {
   "cell_type": "code",
   "execution_count": null,
   "metadata": {},
   "outputs": [],
   "source": []
  }
 ],
 "metadata": {
  "kernelspec": {
   "display_name": "Python 3",
   "language": "python",
   "name": "python3"
  },
  "language_info": {
   "codemirror_mode": {
    "name": "ipython",
    "version": 3
   },
   "file_extension": ".py",
   "mimetype": "text/x-python",
   "name": "python",
   "nbconvert_exporter": "python",
   "pygments_lexer": "ipython3",
   "version": "3.7.1"
  }
 },
 "nbformat": 4,
 "nbformat_minor": 2
}
